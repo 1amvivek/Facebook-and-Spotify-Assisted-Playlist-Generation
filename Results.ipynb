{
 "cells": [
  {
   "cell_type": "code",
   "execution_count": 1,
   "metadata": {
    "collapsed": true
   },
   "outputs": [],
   "source": [
    "import pandas as pd\n",
    "import sqlite3"
   ]
  },
  {
   "cell_type": "code",
   "execution_count": 2,
   "metadata": {
    "collapsed": true
   },
   "outputs": [],
   "source": [
    "contents =  pd.read_json('fb_data_dump_saurabh.json')"
   ]
  },
  {
   "cell_type": "code",
   "execution_count": 3,
   "metadata": {
    "collapsed": true
   },
   "outputs": [],
   "source": [
    "fb_artists = []\n",
    "for current in range(len(contents['music']['data'])):\n",
    "    fb_artists.append(contents['music']['data'][current]['name']) "
   ]
  },
  {
   "cell_type": "code",
   "execution_count": 4,
   "metadata": {},
   "outputs": [
    {
     "name": "stdout",
     "output_type": "stream",
     "text": [
      "[u'Maroon 5', u'Backstreet Boys', u'Shakira', u'Coldplay', u'John Mayer', u'Linkin Park']\n"
     ]
    }
   ],
   "source": [
    "print fb_artists"
   ]
  },
  {
   "cell_type": "code",
   "execution_count": 5,
   "metadata": {
    "collapsed": true
   },
   "outputs": [],
   "source": [
    "conn = sqlite3.connect('output/artist_info.db')"
   ]
  },
  {
   "cell_type": "code",
   "execution_count": 6,
   "metadata": {},
   "outputs": [
    {
     "name": "stdout",
     "output_type": "stream",
     "text": [
      "[(u'AR002UA1187B9A637D', u'7752a11c-9d8b-4220-ac44-e4a04cc8471d', u'TRMUOZE12903CDF721', u'The Bristols')]\n"
     ]
    }
   ],
   "source": [
    "res = conn.execute(\"SELECT * FROM artist_info LIMIT 1;\")\n",
    "data = res.fetchall()\n",
    "print data"
   ]
  },
  {
   "cell_type": "code",
   "execution_count": 7,
   "metadata": {},
   "outputs": [
    {
     "name": "stdout",
     "output_type": "stream",
     "text": [
      "Maroon 5 ARF5M7Q1187FB501E8\n",
      "Backstreet Boys AR3JMC51187B9AE49D\n",
      "Shakira AR6PJ8R1187FB5AD70\n",
      "Coldplay ARJ7KF01187B98D717\n",
      "John Mayer ARZENOX1187B98A645\n",
      "Linkin Park ARQUMH41187B9AF699\n"
     ]
    }
   ],
   "source": [
    "fb_artist_ids = []\n",
    "for fb_artist in fb_artists:\n",
    "    res = conn.execute('SELECT artist_id FROM artist_info where artist_name=\"%s\"' %(fb_artist))\n",
    "    data = res.fetchall()\n",
    "    print fb_artist, data[0][0]\n",
    "    fb_artist_ids.append(data[0][0])\n",
    "conn.close()"
   ]
  },
  {
   "cell_type": "code",
   "execution_count": 8,
   "metadata": {},
   "outputs": [
    {
     "name": "stdout",
     "output_type": "stream",
     "text": [
      "[u'ARF5M7Q1187FB501E8', u'AR3JMC51187B9AE49D', u'AR6PJ8R1187FB5AD70', u'ARJ7KF01187B98D717', u'ARZENOX1187B98A645', u'ARQUMH41187B9AF699']\n"
     ]
    }
   ],
   "source": [
    "print fb_artist_ids"
   ]
  },
  {
   "cell_type": "code",
   "execution_count": 9,
   "metadata": {},
   "outputs": [
    {
     "name": "stdout",
     "output_type": "stream",
     "text": [
      "81\n",
      "75\n",
      "61\n",
      "73\n",
      "65\n",
      "73\n"
     ]
    }
   ],
   "source": [
    "simConn = sqlite3.connect('output/final_similarity.db')\n",
    "artistSimilarityCounts = {}\n",
    "for fb_artist_id in fb_artist_ids:\n",
    "    if not fb_artist_id in artistSimilarityCounts.keys():\n",
    "        artistSimilarityCounts[fb_artist_id] = 1\n",
    "    res = simConn.execute('SELECT * FROM similarity where target=\"%s\"' %(fb_artist_id))\n",
    "    artistSims = res.fetchall()\n",
    "    print len(artistSims)\n",
    "    for artistSim in artistSims:\n",
    "        if not artistSim[1] in artistSimilarityCounts.keys():\n",
    "            artistSimilarityCounts[artistSim[1]] = 1\n",
    "        else:\n",
    "            artistSimilarityCounts[artistSim[1]] = artistSimilarityCounts[artistSim[1]] + 1\n"
   ]
  },
  {
   "cell_type": "code",
   "execution_count": 16,
   "metadata": {},
   "outputs": [
    {
     "name": "stdout",
     "output_type": "stream",
     "text": [
      "ARKMQ0K11C8A4224DF: 3\n",
      "AR4R4UM1187B98BAA9: 3\n",
      "AR4EQ231187B99368F: 3\n",
      "ARXBOZ01187FB38261: 2\n",
      "ARVN9FZ1187FB393F1: 2\n",
      "ARVLXWP1187FB5B94A: 2\n",
      "ARVG4OK1187B9B6BD3: 2\n",
      "ARTMGWK1187B9AC568: 2\n",
      "ARTLC2E1187B98E661: 2\n",
      "ARS57XV1187B9B8535: 2\n",
      "ARS54I31187FB46721: 2\n"
     ]
    }
   ],
   "source": [
    "counter = 0\n",
    "similarArtists = []\n",
    "for key, value in sorted(artistSimilarityCounts.iteritems(), key=lambda (k,v): (v,k), reverse=True):\n",
    "    if counter == 12:\n",
    "        break\n",
    "    if counter == 4:\n",
    "        counter = counter + 1\n",
    "        continue\n",
    "    print \"%s: %s\" % (key, value)\n",
    "    counter = counter + 1\n",
    "    similarArtists.append(key)"
   ]
  },
  {
   "cell_type": "code",
   "execution_count": 17,
   "metadata": {
    "collapsed": true
   },
   "outputs": [],
   "source": [
    "RecommendedArtists = []\n",
    "conn = sqlite3.connect('output/artist_info.db')\n",
    "for currentArtist in similarArtists:\n",
    "    res = conn.execute(\"SELECT artist_name FROM artist_info where artist_id='%s';\" %(currentArtist))\n",
    "    data = res.fetchall()\n",
    "    RecommendedArtists.append(data[0][0])"
   ]
  },
  {
   "cell_type": "code",
   "execution_count": 19,
   "metadata": {},
   "outputs": [
    {
     "name": "stdout",
     "output_type": "stream",
     "text": [
      "The Script\n",
      "Ryan Cabrera\n",
      "The Fray\n",
      "Howie Day\n",
      "Snow Patrol\n",
      "matchbox twenty\n",
      "The Killers\n",
      "Vertikal Horizon\n",
      "Jesse McCartney\n",
      "James Blunt\n",
      "Taylor Swift\n"
     ]
    }
   ],
   "source": [
    "# print RecommendedArtists\n"
   ]
  }
 ],
 "metadata": {
  "kernelspec": {
   "display_name": "Python 2",
   "language": "python",
   "name": "python2"
  },
  "language_info": {
   "codemirror_mode": {
    "name": "ipython",
    "version": 2
   },
   "file_extension": ".py",
   "mimetype": "text/x-python",
   "name": "python",
   "nbconvert_exporter": "python",
   "pygments_lexer": "ipython2",
   "version": "2.7.13"
  }
 },
 "nbformat": 4,
 "nbformat_minor": 2
}
