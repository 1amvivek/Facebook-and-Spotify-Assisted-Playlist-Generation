{
 "cells": [
  {
   "cell_type": "code",
   "execution_count": 1,
   "metadata": {
    "collapsed": true
   },
   "outputs": [],
   "source": [
    "import pandas as pd\n",
    "import numpy as np\n",
    "import sqlite3\n",
    "import re"
   ]
  },
  {
   "cell_type": "code",
   "execution_count": 2,
   "metadata": {},
   "outputs": [
    {
     "name": "stderr",
     "output_type": "stream",
     "text": [
      "/docs/anaconda/lib/python2.7/site-packages/ipykernel_launcher.py:1: ParserWarning: Falling back to the 'python' engine because the 'c' engine does not support regex separators (separators > 1 char and different from '\\s+' are interpreted as regex); you can avoid this warning by specifying engine='python'.\n",
      "  \"\"\"Entry point for launching an IPython kernel.\n"
     ]
    },
    {
     "name": "stdout",
     "output_type": "stream",
     "text": [
      "44745\n"
     ]
    }
   ],
   "source": [
    "content = pd.read_csv('https://labrosa.ee.columbia.edu/millionsong/sites/default/files/AdditionalFiles/unique_artists.txt', header=None, sep='<SEP>')\n",
    "print len(content)"
   ]
  },
  {
   "cell_type": "code",
   "execution_count": 3,
   "metadata": {},
   "outputs": [
    {
     "name": "stdout",
     "output_type": "stream",
     "text": [
      "                    0                                     1  \\\n",
      "0  AR002UA1187B9A637D  7752a11c-9d8b-4220-ac44-e4a04cc8471d   \n",
      "1  AR003FB1187B994355  1dbd2d7b-64c8-46aa-9f47-ff589096d672   \n",
      "2  AR006821187FB5192B  94fc1228-7032-4fe6-a485-e122e5fbee65   \n",
      "\n",
      "                    2                                                  3  \n",
      "0  TRMUOZE12903CDF721                                       The Bristols  \n",
      "1  TRWDPFR128F93594A6                                           The Feds  \n",
      "2  TRMZLJF128F4269EAC  Stephen Varcoe/Choir of King's College_ Cambri...  \n"
     ]
    }
   ],
   "source": [
    "print content[0:3]"
   ]
  },
  {
   "cell_type": "code",
   "execution_count": 10,
   "metadata": {
    "collapsed": true
   },
   "outputs": [],
   "source": [
    "import sqlite3\n",
    "conn = sqlite3.connect('output/artist_info.db')"
   ]
  },
  {
   "cell_type": "code",
   "execution_count": 11,
   "metadata": {},
   "outputs": [],
   "source": [
    "createTableQuery = \"\"\" CREATE TABLE IF NOT EXISTS artist_info (\n",
    "                                        artist_id text PRIMARY KEY,\n",
    "                                        artist_mbid text,\n",
    "                                        song_id text,\n",
    "                                        artist_name text\n",
    "                                    ); \"\"\"\n",
    "conn.execute(createTableQuery)\n",
    "conn.commit()"
   ]
  },
  {
   "cell_type": "code",
   "execution_count": 12,
   "metadata": {
    "collapsed": true
   },
   "outputs": [],
   "source": [
    "res =  conn.execute(\"delete from artist_info;\")\n",
    "for current in content.iterrows():\n",
    "    artist_name = re.sub(r\"'\",r'',current[1][3]) \n",
    "    insertQuery = \"\"\" INSERT INTO artist_info VALUES ('%s', '%s', '%s', '%s'); \"\"\" %(current[1][0], current[1][1], current[1][2], artist_name)\n",
    "#     print insertQuery\n",
    "    conn.execute(insertQuery)\n",
    "conn.commit()"
   ]
  },
  {
   "cell_type": "code",
   "execution_count": 13,
   "metadata": {},
   "outputs": [
    {
     "data": {
      "text/plain": [
       "[(44745,)]"
      ]
     },
     "execution_count": 13,
     "metadata": {},
     "output_type": "execute_result"
    }
   ],
   "source": [
    "res =  conn.execute(\"Select count(*) from artist_info;\")\n",
    "res.fetchall()"
   ]
  },
  {
   "cell_type": "code",
   "execution_count": 14,
   "metadata": {
    "collapsed": true
   },
   "outputs": [],
   "source": [
    "conn.close()"
   ]
  },
  {
   "cell_type": "code",
   "execution_count": null,
   "metadata": {
    "collapsed": true
   },
   "outputs": [],
   "source": []
  }
 ],
 "metadata": {
  "kernelspec": {
   "display_name": "Python 2",
   "language": "python",
   "name": "python2"
  },
  "language_info": {
   "codemirror_mode": {
    "name": "ipython",
    "version": 2
   },
   "file_extension": ".py",
   "mimetype": "text/x-python",
   "name": "python",
   "nbconvert_exporter": "python",
   "pygments_lexer": "ipython2",
   "version": "2.7.13"
  }
 },
 "nbformat": 4,
 "nbformat_minor": 2
}
