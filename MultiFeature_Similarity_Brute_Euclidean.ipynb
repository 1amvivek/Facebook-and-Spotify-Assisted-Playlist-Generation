{
 "cells": [
  {
   "cell_type": "code",
   "execution_count": 1,
   "metadata": {
    "collapsed": true
   },
   "outputs": [],
   "source": [
    "import sqlite3\n",
    "import pprint as pp\n",
    "import numpy as np\n",
    "from sklearn.neighbors import NearestNeighbors\n",
    "from sklearn.preprocessing import MinMaxScaler\n",
    "from sklearn.metrics import f1_score\n",
    "import datetime"
   ]
  },
  {
   "cell_type": "code",
   "execution_count": 2,
   "metadata": {
    "collapsed": true
   },
   "outputs": [],
   "source": [
    "def Timer():\n",
    "    return datetime.datetime.now()"
   ]
  },
  {
   "cell_type": "code",
   "execution_count": 3,
   "metadata": {
    "collapsed": true
   },
   "outputs": [],
   "source": [
    "def createTable(filename, tablename):\n",
    "    createConn = sqlite3.connect(filename)\n",
    "    createTableQuery = \"\"\" CREATE TABLE IF NOT EXISTS %s (\n",
    "                                        target text,\n",
    "                                        similar text\n",
    "                                    ); \"\"\" %(tablename)\n",
    "\n",
    "    createConn.execute(createTableQuery)\n",
    "    return createConn"
   ]
  },
  {
   "cell_type": "code",
   "execution_count": 4,
   "metadata": {
    "collapsed": true
   },
   "outputs": [],
   "source": [
    "def checkTable(createConn, tablename):\n",
    "    res =  createConn.execute(\"Select count(*) from %s;\" %(tablename))\n",
    "    print res.fetchall()\n",
    "\n",
    "def deleteTable(createConn, tablename):\n",
    "    createConn.execute(\"drop table %s;\"%(tablename))"
   ]
  },
  {
   "cell_type": "code",
   "execution_count": 5,
   "metadata": {
    "collapsed": true
   },
   "outputs": [],
   "source": [
    "def insertTable(createConn, tablename, indices, knn):\n",
    "    counter = 0\n",
    "    for currentIndex in indices:\n",
    "        counter = counter+1\n",
    "        if counter%10000 == 0:\n",
    "            print \"Inserted %d items\" %(counter)\n",
    "        for index in range(1, len(currentIndex)):\n",
    "            if index == knn:\n",
    "                break\n",
    "    #         print artists[currentIndex[0]][0], artists[currentIndex[index]][0]\n",
    "            insertQuery = \"\"\" INSERT INTO %s VALUES ('%s', '%s'); \"\"\" %(tablename, ds_song_loudness_tempo[currentIndex[0]][0], ds_song_loudness_tempo[currentIndex[index]][0])\n",
    "    #         print insertQuery\n",
    "            createConn.execute(insertQuery)"
   ]
  },
  {
   "cell_type": "code",
   "execution_count": 6,
   "metadata": {},
   "outputs": [
    {
     "name": "stdout",
     "output_type": "stream",
     "text": [
      "[[u'AR009211187B989185' u'-9.197' u'149.7485' u'0.39681784431'\n",
      "  u'0.297404802871' u'0.0']\n",
      " [u'AR00A6H1187FB5402A' u'-6.27225' u'155.58725' u'0.514064276419'\n",
      "  u'0.395627514317' u'0.0']\n",
      " [u'AR00LNI1187FB444A5' u'-13.576' u'90.6795' u'0.471212607351'\n",
      "  u'0.340275507301' u'0.0']\n",
      " ..., \n",
      " [u'ARZYP6O1187B9892E7' u'-4.733' u'78.612' u'0.429260855806'\n",
      "  u'0.339046750241' u'0.0']\n",
      " [u'ARZYPLF1187FB45B9B' u'-2.812' u'121.216' u'0.775494507588'\n",
      "  u'0.542601870216' u'0.0']\n",
      " [u'ARZZRK91187B9A5CA5' u'-9.28216666667' u'150.253333333' u'0.58344302355'\n",
      "  u'0.385787614584' u'0.0']]\n"
     ]
    }
   ],
   "source": [
    "con2tracks = sqlite3.connect(\"data/song_feature_db.db\")\n",
    "select_query = \"SELECT artist_id,avg(loudness) loud,avg(tempo) as tempo, avg(artist_familiarity) as artist_familiarity,avg(artist_hotttnesss) as artist_hotttnesss,avg(energy) as energy FROM songs GROUP BY artist_id\"\n",
    "song_loudness_tempo = con2tracks.execute(select_query)\n",
    "ds_song_loudness_tempo = np.array(song_loudness_tempo.fetchall())\n",
    "print ds_song_loudness_tempo\n",
    "con2tracks.close()"
   ]
  },
  {
   "cell_type": "code",
   "execution_count": 7,
   "metadata": {},
   "outputs": [
    {
     "name": "stdout",
     "output_type": "stream",
     "text": [
      "[[ 0.74781733  0.57890149  0.70194018  0.2747382   0.        ]\n",
      " [ 0.82336493  0.60147307  0.76085981  0.3654749   0.        ]\n",
      " [ 0.63470579  0.35055107  0.73932564  0.31434153  0.        ]\n",
      " ..., \n",
      " [ 0.86312445  0.30390023  0.71824371  0.31320642  0.        ]\n",
      " [ 0.91274474  0.46859984  0.89223584  0.50124766  0.        ]\n",
      " [ 0.74561743  0.58085308  0.79572458  0.35638495  0.        ]]\n"
     ]
    },
    {
     "name": "stderr",
     "output_type": "stream",
     "text": [
      "/Users/saurabhghotane/anaconda/lib/python2.7/site-packages/sklearn/utils/validation.py:429: DataConversionWarning: Data with input dtype <U18 was converted to float64 by MinMaxScaler.\n",
      "  warnings.warn(msg, _DataConversionWarning)\n"
     ]
    }
   ],
   "source": [
    "ds_lt = ds_song_loudness_tempo[:,1:]\n",
    "scaler = MinMaxScaler()\n",
    "scaled_ds_lt = scaler.fit_transform(ds_lt)\n",
    "print scaled_ds_lt"
   ]
  },
  {
   "cell_type": "code",
   "execution_count": 8,
   "metadata": {},
   "outputs": [
    {
     "name": "stdout",
     "output_type": "stream",
     "text": [
      "Indices =  [[   0 1688 2844 ...,   91 1589  342]\n",
      " [   1 2802  824 ..., 3490 3336 2801]\n",
      " [   2 2862  513 ..., 1260 3322   50]\n",
      " ..., \n",
      " [3885  238 3012 ..., 3816 3204  224]\n",
      " [3886 1114 2025 ...,  627 3418 3393]\n",
      " [3887 3048 3458 ..., 3382 2589 1059]]\n",
      "Distances =  [[ 0.          0.02344579  0.02753426 ...,  0.09904025  0.09909632\n",
      "   0.09934167]\n",
      " [ 0.          0.02357195  0.0252694  ...,  0.0902396   0.09027295\n",
      "   0.09043973]\n",
      " [ 0.          0.02045428  0.02386873 ...,  0.09605771  0.0960785\n",
      "   0.09611261]\n",
      " ..., \n",
      " [ 0.          0.04164826  0.04298376 ...,  0.13655842  0.13671892\n",
      "   0.13695353]\n",
      " [ 0.          0.04672709  0.04789667 ...,  0.13587588  0.13625159\n",
      "   0.13625257]\n",
      " [ 0.          0.00982516  0.0244393  ...,  0.08242892  0.08251589\n",
      "   0.08281179]]\n",
      "0:00:00.531727\n"
     ]
    }
   ],
   "source": [
    "start = Timer()\n",
    "nbrs = NearestNeighbors(n_neighbors=200, algorithm='brute', metric='euclidean').fit(scaled_ds_lt)\n",
    "distances, indices = nbrs.kneighbors(scaled_ds_lt)\n",
    "print \"Indices = \", indices\n",
    "print \"Distances = \", distances\n",
    "end = Timer()\n",
    "print end - start"
   ]
  },
  {
   "cell_type": "markdown",
   "metadata": {},
   "source": [
    "## Calculating Accuracy"
   ]
  },
  {
   "cell_type": "code",
   "execution_count": 9,
   "metadata": {},
   "outputs": [
    {
     "name": "stdout",
     "output_type": "stream",
     "text": [
      "[(229392,)]\n",
      "0:00:03.455439\n"
     ]
    }
   ],
   "source": [
    "start = Timer()\n",
    "# deleteTable(createConn, 'similarity_loudness_tempo_balltree_60')\n",
    "algo_tbl_name = 'similarity_multifeature_euclidean_60'\n",
    "createConn = createTable('data/subset_artist_similarity.db',algo_tbl_name)\n",
    "insertTable(createConn,algo_tbl_name, indices, 60)\n",
    "checkTable(createConn,algo_tbl_name)\n",
    "end = Timer()\n",
    "print end - start"
   ]
  },
  {
   "cell_type": "code",
   "execution_count": 10,
   "metadata": {},
   "outputs": [
    {
     "name": "stdout",
     "output_type": "stream",
     "text": [
      "0:00:15.049446\n"
     ]
    }
   ],
   "source": [
    "start = Timer()\n",
    "learning_factor=4.1\n",
    "total = 0.00\n",
    "for i in range(0,20):\n",
    "    res = createConn.execute(\"SELECT * FROM similarity as actual INNER JOIN %s as predict ON actual.target = predict.target and actual.similar = predict.similar where actual.target='%s';\" %(algo_tbl_name, ds_song_loudness_tempo[i][0]))\n",
    "    final = res.fetchall()\n",
    "    total = total + len(final)\n",
    "    end = Timer()\n",
    "    # print len(final)\n",
    "print end - start"
   ]
  },
  {
   "cell_type": "code",
   "execution_count": 11,
   "metadata": {},
   "outputs": [],
   "source": [
    "res = createConn.execute(\"SELECT count(*) FROM similarity GROUP BY target limit 20;\")\n",
    "counts = res.fetchall()\n",
    "denominator=0.00\n",
    "for i in counts:\n",
    "    denominator = denominator + int(i[0]/learning_factor)"
   ]
  },
  {
   "cell_type": "code",
   "execution_count": 12,
   "metadata": {},
   "outputs": [
    {
     "name": "stdout",
     "output_type": "stream",
     "text": [
      "Accuracy for Euclidean for 60 Neighbours 0.535714285714\n"
     ]
    }
   ],
   "source": [
    "print \"Accuracy for Euclidean for 60 Neighbours\", total/denominator\n",
    "createConn.close()"
   ]
  },
  {
   "cell_type": "markdown",
   "metadata": {},
   "source": [
    "## Euclidean - 45"
   ]
  },
  {
   "cell_type": "code",
   "execution_count": 13,
   "metadata": {},
   "outputs": [
    {
     "name": "stdout",
     "output_type": "stream",
     "text": [
      "[(171072,)]\n",
      "0:00:02.625026\n"
     ]
    }
   ],
   "source": [
    "start = Timer()\n",
    "# deleteTable(createConn, 'similarity_loudness_tempo_balltree_60')\n",
    "algo_tbl_name = 'similarity_multifeature_euclidean_45'\n",
    "createConn = createTable('data/subset_artist_similarity.db',algo_tbl_name)\n",
    "insertTable(createConn,algo_tbl_name, indices, 45)\n",
    "checkTable(createConn,algo_tbl_name)\n",
    "end = Timer()\n",
    "print end - start"
   ]
  },
  {
   "cell_type": "code",
   "execution_count": 14,
   "metadata": {},
   "outputs": [
    {
     "name": "stdout",
     "output_type": "stream",
     "text": [
      "0:00:11.056617\n"
     ]
    }
   ],
   "source": [
    "start = Timer()\n",
    "total = 0.00\n",
    "for i in range(0,20):\n",
    "    res = createConn.execute(\"SELECT * FROM similarity as actual INNER JOIN %s as predict ON actual.target = predict.target and actual.similar = predict.similar where actual.target='%s';\" %(algo_tbl_name, ds_song_loudness_tempo[i][0]))\n",
    "    final = res.fetchall()\n",
    "    total = total + len(final)\n",
    "    end = Timer()\n",
    "    # print len(final)\n",
    "print end - start"
   ]
  },
  {
   "cell_type": "code",
   "execution_count": 15,
   "metadata": {},
   "outputs": [],
   "source": [
    "res = createConn.execute(\"SELECT count(*) FROM similarity GROUP BY target limit 20;\")\n",
    "counts = res.fetchall()\n",
    "denominator=0.00\n",
    "for i in counts:\n",
    "    denominator = denominator + int(i[0]/learning_factor)"
   ]
  },
  {
   "cell_type": "code",
   "execution_count": 16,
   "metadata": {},
   "outputs": [
    {
     "name": "stdout",
     "output_type": "stream",
     "text": [
      "Accuracy for Euclidean for 45 Neighbours 0.446428571429\n"
     ]
    }
   ],
   "source": [
    "print \"Accuracy for Euclidean for 45 Neighbours\", total/denominator\n",
    "createConn.close()"
   ]
  },
  {
   "cell_type": "markdown",
   "metadata": {},
   "source": [
    "## Euclidean - 90"
   ]
  },
  {
   "cell_type": "code",
   "execution_count": 21,
   "metadata": {},
   "outputs": [
    {
     "name": "stdout",
     "output_type": "stream",
     "text": [
      "[(346032,)]\n",
      "0:00:05.989694\n"
     ]
    }
   ],
   "source": [
    "start = Timer()\n",
    "# deleteTable(createConn, 'similarity_loudness_tempo_balltree_60')\n",
    "algo_tbl_name = 'similarity_multifeature_euclidean_90'\n",
    "createConn = createTable('data/subset_artist_similarity.db',algo_tbl_name)\n",
    "insertTable(createConn,algo_tbl_name, indices, 90)\n",
    "checkTable(createConn,algo_tbl_name)\n",
    "end = Timer()\n",
    "print end - start"
   ]
  },
  {
   "cell_type": "code",
   "execution_count": 22,
   "metadata": {},
   "outputs": [
    {
     "name": "stdout",
     "output_type": "stream",
     "text": [
      "0:00:22.927289\n"
     ]
    }
   ],
   "source": [
    "start = Timer()\n",
    "learning_factor=2.7\n",
    "total = 0.00\n",
    "for i in range(0,20):\n",
    "    res = createConn.execute(\"SELECT * FROM similarity as actual INNER JOIN %s as predict ON actual.target = predict.target and actual.similar = predict.similar where actual.target='%s';\" %(algo_tbl_name, ds_song_loudness_tempo[i][0]))\n",
    "    final = res.fetchall()\n",
    "    total = total + len(final)\n",
    "    end = Timer()\n",
    "    # print len(final)\n",
    "print end - start"
   ]
  },
  {
   "cell_type": "code",
   "execution_count": 23,
   "metadata": {},
   "outputs": [],
   "source": [
    "res = createConn.execute(\"SELECT count(*) FROM similarity GROUP BY target limit 20;\")\n",
    "counts = res.fetchall()\n",
    "denominator=0.00\n",
    "for i in counts:\n",
    "    denominator = denominator + int(i[0]/learning_factor)"
   ]
  },
  {
   "cell_type": "code",
   "execution_count": 24,
   "metadata": {},
   "outputs": [
    {
     "name": "stdout",
     "output_type": "stream",
     "text": [
      "Accuracy for Euclidean for 90 Neighbours 0.404255319149\n"
     ]
    }
   ],
   "source": [
    "print \"Accuracy for Euclidean for 90 Neighbours\", total/denominator\n",
    "createConn.close()"
   ]
  },
  {
   "cell_type": "code",
   "execution_count": null,
   "metadata": {
    "collapsed": true
   },
   "outputs": [],
   "source": []
  }
 ],
 "metadata": {
  "kernelspec": {
   "display_name": "Python 2",
   "language": "python",
   "name": "python2"
  },
  "language_info": {
   "codemirror_mode": {
    "name": "ipython",
    "version": 2
   },
   "file_extension": ".py",
   "mimetype": "text/x-python",
   "name": "python",
   "nbconvert_exporter": "python",
   "pygments_lexer": "ipython2",
   "version": "2.7.13"
  }
 },
 "nbformat": 4,
 "nbformat_minor": 2
}
