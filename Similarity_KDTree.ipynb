{
 "cells": [
  {
   "cell_type": "code",
   "execution_count": 1,
   "metadata": {
    "collapsed": true
   },
   "outputs": [],
   "source": [
    "import sqlite3\n",
    "import pprint as pp\n",
    "import numpy as np\n",
    "from sklearn.neighbors import NearestNeighbors\n",
    "import datetime"
   ]
  },
  {
   "cell_type": "code",
   "execution_count": 2,
   "metadata": {
    "collapsed": true
   },
   "outputs": [],
   "source": [
    "def readTags(path, query):  \n",
    "    conn = sqlite3.connect(path)\n",
    "    res = conn.execute(query)\n",
    "    tags = res.fetchall()\n",
    "    # pp.pprint(data)\n",
    "    print \"Total: \", len(tags)\n",
    "    return conn, tags"
   ]
  },
  {
   "cell_type": "code",
   "execution_count": 3,
   "metadata": {
    "collapsed": true
   },
   "outputs": [],
   "source": [
    "def createTermsIndices(tags):\n",
    "    tagsDict = {}\n",
    "    for index in range(len(tags)):\n",
    "        tagsDict[tags[index][0]] = index\n",
    "    print len(tagsDict.values())\n",
    "    return tagsDict"
   ]
  },
  {
   "cell_type": "code",
   "execution_count": 4,
   "metadata": {
    "collapsed": true
   },
   "outputs": [],
   "source": [
    "def getArtistTerms(artist):\n",
    "    query=\"SELECT term FROM artist_term where artist_id='%s';\" %(artist)\n",
    "    res = term.execute(query)\n",
    "    artistTerms = res.fetchall()\n",
    "    return artistTerms"
   ]
  },
  {
   "cell_type": "code",
   "execution_count": 5,
   "metadata": {
    "collapsed": true
   },
   "outputs": [],
   "source": [
    "def Timer():\n",
    "    return datetime.datetime.now()"
   ]
  },
  {
   "cell_type": "code",
   "execution_count": 6,
   "metadata": {
    "collapsed": true
   },
   "outputs": [],
   "source": [
    "def createMatrix(artists, terms):\n",
    "    mat = np.zeros((len(artists),len(terms)))\n",
    "    print mat.shape\n",
    "\n",
    "    for artistIndex in range(len(artists)):\n",
    "        if artistIndex%10000 == 0:\n",
    "            print \"Processed %d items\" %(artistIndex)\n",
    "        artistTerms = getArtistTerms(artists[artistIndex])\n",
    "        for artistTermIndex in range(len(artistTerms)):\n",
    "            if artistTerms[artistTermIndex][0] in termsDict.keys():\n",
    "    #             print termsDict[artistTerms[artistTermIndex][0]], artistTerms[artistTermIndex][0]\n",
    "                mat[artistIndex][(termsDict[artistTerms[artistTermIndex][0]])]=1.0\n",
    "    return mat"
   ]
  },
  {
   "cell_type": "code",
   "execution_count": 7,
   "metadata": {
    "collapsed": true
   },
   "outputs": [],
   "source": [
    "def createTable(filename, tablename):\n",
    "    createConn = sqlite3.connect(filename)\n",
    "    createTableQuery = \"\"\" CREATE TABLE IF NOT EXISTS %s (\n",
    "                                        target text,\n",
    "                                        similar text\n",
    "                                    ); \"\"\" %(tablename)\n",
    "\n",
    "    createConn.execute(createTableQuery)\n",
    "    return createConn"
   ]
  },
  {
   "cell_type": "code",
   "execution_count": 8,
   "metadata": {
    "collapsed": true
   },
   "outputs": [],
   "source": [
    "def insertTable(createConn, tablename, indices, knn):\n",
    "    counter = 0\n",
    "    for currentIndex in indices:\n",
    "        counter = counter+1\n",
    "        if counter%10000 == 0:\n",
    "            print \"Inserted %d items\" %(counter)\n",
    "        for index in range(1, len(currentIndex)):\n",
    "            if index == knn:\n",
    "                break\n",
    "    #         print artists[currentIndex[0]][0], artists[currentIndex[index]][0]\n",
    "            insertQuery = \"\"\" INSERT INTO %s VALUES ('%s', '%s'); \"\"\" %(tablename, artists[currentIndex[0]][0], artists[currentIndex[index]][0])\n",
    "    #         print insertQuery\n",
    "            createConn.execute(insertQuery)\n",
    "            "
   ]
  },
  {
   "cell_type": "code",
   "execution_count": 9,
   "metadata": {
    "collapsed": true
   },
   "outputs": [],
   "source": [
    "def checkTable(createConn, tablename):\n",
    "    res =  createConn.execute(\"Select count(*) from %s;\" %(tablename))\n",
    "    print res.fetchall()\n",
    "\n",
    "def deleteTable(createConn):\n",
    "    createConn.execute(\"drop table %s;\" %(tablename))"
   ]
  },
  {
   "cell_type": "code",
   "execution_count": 10,
   "metadata": {},
   "outputs": [
    {
     "name": "stdout",
     "output_type": "stream",
     "text": [
      "Total:  44745\n",
      "Total:  353\n",
      "353\n",
      "(44745, 353)\n",
      "Processed 0 items\n",
      "Processed 10000 items\n",
      "Processed 20000 items\n",
      "Processed 30000 items\n",
      "Processed 40000 items\n"
     ]
    }
   ],
   "source": [
    "term, artists = readTags('data/artist_term.db', 'SELECT artist_id FROM artists;')\n",
    "term, terms = readTags('data/artist_term.db',\n",
    "                        'SELECT term FROM artist_term GROUP BY term HAVING count(*)>500;')\n",
    "termsDict = createTermsIndices(terms)\n",
    "mat = createMatrix(artists, terms)"
   ]
  },
  {
   "cell_type": "code",
   "execution_count": 11,
   "metadata": {},
   "outputs": [
    {
     "name": "stdout",
     "output_type": "stream",
     "text": [
      "2017-11-27 01:45:26.206500\n",
      "[[    0 19676 34301 ..., 36414 44146  6335]\n",
      " [    1 11189   294 ...,  4867  7635 33208]\n",
      " [    2 32635  6864 ..., 31604 33477  1280]\n",
      " ..., \n",
      " [44742 33447 43158 ..., 12288 12319 12272]\n",
      " [10209 14681 13693 ..., 13696 13714 11131]\n",
      " [44744 36796 41754 ..., 11666   366 11607]]\n",
      "[[ 0.          3.87298335  3.87298335 ...,  4.58257569  4.58257569\n",
      "   4.69041576]\n",
      " [ 0.          2.          2.         ...,  2.64575131  2.64575131\n",
      "   2.64575131]\n",
      " [ 0.          5.          5.38516481 ...,  6.32455532  6.32455532\n",
      "   6.32455532]\n",
      " ..., \n",
      " [ 0.          2.82842712  2.82842712 ...,  3.46410162  3.46410162\n",
      "   3.46410162]\n",
      " [ 0.          0.          0.         ...,  0.          0.          0.        ]\n",
      " [ 0.          3.          3.         ...,  3.74165739  3.74165739\n",
      "   3.74165739]]\n",
      "0:23:15.067246\n"
     ]
    }
   ],
   "source": [
    "start = Timer()\n",
    "print start\n",
    "nbrs = NearestNeighbors(n_neighbors=200, algorithm='kd_tree').fit(mat)\n",
    "distances, indices = nbrs.kneighbors(mat)\n",
    "print indices\n",
    "print distances\n",
    "end = Timer()\n",
    "print end - start"
   ]
  },
  {
   "cell_type": "markdown",
   "metadata": {},
   "source": [
    "## Calculating Accuracy"
   ]
  },
  {
   "cell_type": "code",
   "execution_count": 27,
   "metadata": {},
   "outputs": [
    {
     "name": "stdout",
     "output_type": "stream",
     "text": [
      "[(0,)]\n",
      "Inserted 10000 items\n",
      "Inserted 20000 items\n",
      "Inserted 30000 items\n",
      "Inserted 40000 items\n",
      "[(2639955,)]\n",
      "0:00:51.528511\n"
     ]
    }
   ],
   "source": [
    "start = Timer()\n",
    "createConn = createTable('data/artist_similarity.db', 'kdtree_tags_60')\n",
    "checkTable(createConn, 'kdtree_tags_60')\n",
    "insertTable(createConn, 'kdtree_tags_60', indices, 60)\n",
    "checkTable(createConn, 'kdtree_tags_60')\n",
    "end = Timer()\n",
    "print end - start"
   ]
  },
  {
   "cell_type": "code",
   "execution_count": 28,
   "metadata": {},
   "outputs": [
    {
     "name": "stdout",
     "output_type": "stream",
     "text": [
      "0:00:00.717704\n",
      "0:00:01.492397\n",
      "0:00:02.206296\n",
      "0:00:02.879320\n",
      "0:00:03.572623\n",
      "0:00:04.259198\n",
      "0:00:04.927166\n",
      "0:00:05.595871\n",
      "0:00:06.276206\n",
      "0:00:06.938854\n",
      "0:00:07.613484\n",
      "0:00:08.272807\n",
      "0:00:08.928032\n",
      "0:00:09.594604\n",
      "0:00:10.279914\n",
      "0:00:10.930463\n",
      "0:00:11.598102\n",
      "0:00:12.250952\n",
      "0:00:12.918110\n",
      "0:00:13.576493\n"
     ]
    }
   ],
   "source": [
    "start = Timer()\n",
    "learning_factor=7.3\n",
    "total = 0.00\n",
    "for i in range(0,20):\n",
    "#     print artists[i][0]\n",
    "    res = createConn.execute(\"SELECT * FROM kdtree_tags_60 as actual INNER JOIN similarity as predict ON actual.target = predict.target and actual.similar = predict.similar where actual.target='%s';\" %(artists[i][0]))\n",
    "    final = res.fetchall()\n",
    "#     print len(final)\n",
    "    total = total + len(final)\n",
    "    end = Timer()\n",
    "    print end - start"
   ]
  },
  {
   "cell_type": "code",
   "execution_count": 29,
   "metadata": {},
   "outputs": [
    {
     "name": "stdout",
     "output_type": "stream",
     "text": [
      "141.0\n"
     ]
    }
   ],
   "source": [
    "res = createConn.execute(\"SELECT count(*) FROM similarity GROUP BY target LIMIT 20;\")\n",
    "counts = res.fetchall()\n",
    "denominator=0.00\n",
    "for i in counts:\n",
    "    denominator = denominator + int(i[0]/learning_factor)\n",
    "print denominator"
   ]
  },
  {
   "cell_type": "code",
   "execution_count": 30,
   "metadata": {},
   "outputs": [
    {
     "name": "stdout",
     "output_type": "stream",
     "text": [
      "Accuracy Score for KD-Tree for 60 Neighbours 0.695035460993\n"
     ]
    }
   ],
   "source": [
    "print \"Accuracy Score for KD-Tree for 60 Neighbours\", total/denominator\n",
    "createConn.close()"
   ]
  },
  {
   "cell_type": "code",
   "execution_count": 31,
   "metadata": {},
   "outputs": [
    {
     "name": "stdout",
     "output_type": "stream",
     "text": [
      "[(0,)]\n",
      "Inserted 10000 items\n",
      "Inserted 20000 items\n",
      "Inserted 30000 items\n",
      "Inserted 40000 items\n",
      "[(1968780,)]\n",
      "0:00:37.523275\n"
     ]
    }
   ],
   "source": [
    "start = Timer()\n",
    "createConn = createTable('data/artist_similarity.db', 'kdtree_tags_45')\n",
    "checkTable(createConn, 'kdtree_tags_45')\n",
    "insertTable(createConn, 'kdtree_tags_45', indices, 45)\n",
    "checkTable(createConn, 'kdtree_tags_45')\n",
    "end = Timer()\n",
    "print end - start"
   ]
  },
  {
   "cell_type": "code",
   "execution_count": 32,
   "metadata": {},
   "outputs": [
    {
     "name": "stdout",
     "output_type": "stream",
     "text": [
      "0:00:00.498710\n",
      "0:00:00.995961\n",
      "0:00:01.499149\n",
      "0:00:02.074260\n",
      "0:00:02.593661\n",
      "0:00:03.107916\n",
      "0:00:03.615770\n",
      "0:00:04.097983\n",
      "0:00:04.597751\n",
      "0:00:05.086205\n",
      "0:00:05.573392\n",
      "0:00:06.070000\n",
      "0:00:06.565796\n",
      "0:00:07.069245\n",
      "0:00:07.570539\n",
      "0:00:08.082077\n",
      "0:00:08.642745\n",
      "0:00:09.192045\n",
      "0:00:09.708714\n",
      "0:00:10.233097\n"
     ]
    }
   ],
   "source": [
    "start = Timer()\n",
    "total = 0.00\n",
    "for i in range(0,20):\n",
    "#     print artists[i][0]\n",
    "    res = createConn.execute(\"SELECT * FROM kdtree_tags_45 as actual INNER JOIN similarity as predict ON actual.target = predict.target and actual.similar = predict.similar where actual.target='%s';\" %(artists[i][0]))\n",
    "    final = res.fetchall()\n",
    "#     print len(final)\n",
    "    total = total + len(final)\n",
    "    end = Timer()\n",
    "    print end - start"
   ]
  },
  {
   "cell_type": "code",
   "execution_count": 35,
   "metadata": {},
   "outputs": [
    {
     "name": "stdout",
     "output_type": "stream",
     "text": [
      "Accuracy Score for KD-Tree for 45 Neighbours 0.624113475177\n"
     ]
    }
   ],
   "source": [
    "print \"Accuracy Score for KD-Tree for 45 Neighbours\", total/denominator \n",
    "createConn.close()"
   ]
  },
  {
   "cell_type": "code",
   "execution_count": 37,
   "metadata": {},
   "outputs": [
    {
     "name": "stdout",
     "output_type": "stream",
     "text": [
      "[(0,)]\n",
      "Inserted 10000 items\n",
      "Inserted 20000 items\n",
      "Inserted 30000 items\n",
      "Inserted 40000 items\n",
      "[(3982305,)]\n",
      "0:01:14.150480\n"
     ]
    }
   ],
   "source": [
    "start = Timer()\n",
    "createConn = createTable('data/artist_similarity.db', 'kdtree_tags_90')\n",
    "checkTable(createConn, 'kdtree_tags_90')\n",
    "insertTable(createConn, 'kdtree_tags_90', indices, 90)\n",
    "checkTable(createConn, 'kdtree_tags_90')\n",
    "end = Timer()\n",
    "print end - start"
   ]
  },
  {
   "cell_type": "code",
   "execution_count": 38,
   "metadata": {},
   "outputs": [
    {
     "name": "stdout",
     "output_type": "stream",
     "text": [
      "0:00:01.087374\n",
      "0:00:02.178647\n",
      "0:00:03.220929\n",
      "0:00:04.331187\n",
      "0:00:05.390707\n",
      "0:00:06.418387\n",
      "0:00:07.477845\n",
      "0:00:08.544607\n",
      "0:00:09.638925\n",
      "0:00:10.712642\n",
      "0:00:11.831967\n",
      "0:00:12.908494\n",
      "0:00:13.946259\n",
      "0:00:14.977219\n",
      "0:00:16.011019\n",
      "0:00:17.048861\n",
      "0:00:18.065303\n",
      "0:00:19.084537\n",
      "0:00:20.112773\n",
      "0:00:21.124378\n"
     ]
    }
   ],
   "source": [
    "start = Timer()\n",
    "total = 0.00\n",
    "learning_factor=5.2\n",
    "for i in range(0,20):\n",
    "#     print artists[i][0]\n",
    "    res = createConn.execute(\"SELECT * FROM kdtree_tags_90 as actual INNER JOIN similarity as predict ON actual.target = predict.target and actual.similar = predict.similar where actual.target='%s';\" %(artists[i][0]))\n",
    "    final = res.fetchall()\n",
    "#     print len(final)\n",
    "    total = total + len(final)\n",
    "    end = Timer()\n",
    "    print end - start"
   ]
  },
  {
   "cell_type": "code",
   "execution_count": 39,
   "metadata": {
    "collapsed": true
   },
   "outputs": [],
   "source": [
    "res = createConn.execute(\"SELECT count(*) FROM similarity GROUP BY target LIMIT 20;\")\n",
    "counts = res.fetchall()\n",
    "denominator=0.00\n",
    "for i in counts:\n",
    "    denominator = denominator + int(i[0]/learning_factor)\n",
    "# print denominator"
   ]
  },
  {
   "cell_type": "code",
   "execution_count": 40,
   "metadata": {},
   "outputs": [
    {
     "name": "stdout",
     "output_type": "stream",
     "text": [
      "Accuracy Score for KD-Tree for 90 Neighbours 0.577114427861\n"
     ]
    }
   ],
   "source": [
    "print \"Accuracy Score for KD-Tree for 90 Neighbours\", total/denominator #90 neighbours algorithm: Ball_tree\n",
    "createConn.close()"
   ]
  },
  {
   "cell_type": "code",
   "execution_count": null,
   "metadata": {},
   "outputs": [],
   "source": []
  },
  {
   "cell_type": "code",
   "execution_count": null,
   "metadata": {
    "collapsed": true
   },
   "outputs": [],
   "source": []
  }
 ],
 "metadata": {
  "kernelspec": {
   "display_name": "Python 2",
   "language": "python",
   "name": "python2"
  },
  "language_info": {
   "codemirror_mode": {
    "name": "ipython",
    "version": 2
   },
   "file_extension": ".py",
   "mimetype": "text/x-python",
   "name": "python",
   "nbconvert_exporter": "python",
   "pygments_lexer": "ipython2",
   "version": "2.7.13"
  }
 },
 "nbformat": 4,
 "nbformat_minor": 2
}
