{
 "cells": [
  {
   "cell_type": "code",
   "execution_count": 1,
   "metadata": {
    "collapsed": true
   },
   "outputs": [],
   "source": [
    "import sqlite3\n",
    "import pprint as pp\n",
    "import numpy as np\n",
    "from sklearn.neighbors import NearestNeighbors\n",
    "import datetime"
   ]
  },
  {
   "cell_type": "code",
   "execution_count": 2,
   "metadata": {
    "collapsed": true
   },
   "outputs": [],
   "source": [
    "def readTags(path, query):  \n",
    "    conn = sqlite3.connect(path)\n",
    "    res = conn.execute(query)\n",
    "    tags = res.fetchall()\n",
    "    # pp.pprint(data)\n",
    "    print \"Total: \", len(tags)\n",
    "    return conn, tags"
   ]
  },
  {
   "cell_type": "code",
   "execution_count": 3,
   "metadata": {
    "collapsed": true
   },
   "outputs": [],
   "source": [
    "def createTermsIndices(tags):\n",
    "    tagsDict = {}\n",
    "    for index in range(len(tags)):\n",
    "        tagsDict[tags[index][0]] = index\n",
    "    print len(tagsDict.values())\n",
    "    return tagsDict"
   ]
  },
  {
   "cell_type": "code",
   "execution_count": 4,
   "metadata": {
    "collapsed": true
   },
   "outputs": [],
   "source": [
    "def getArtistTerms(artist):\n",
    "    query=\"SELECT term FROM artist_term where artist_id='%s';\" %(artist)\n",
    "    res = term.execute(query)\n",
    "    artistTerms = res.fetchall()\n",
    "    return artistTerms"
   ]
  },
  {
   "cell_type": "code",
   "execution_count": 5,
   "metadata": {
    "collapsed": true
   },
   "outputs": [],
   "source": [
    "def Timer():\n",
    "    return datetime.datetime.now()"
   ]
  },
  {
   "cell_type": "code",
   "execution_count": 6,
   "metadata": {},
   "outputs": [],
   "source": [
    "def createMatrix(artists, terms):\n",
    "    mat = np.zeros((len(artists),len(terms)))\n",
    "    print mat.shape\n",
    "\n",
    "    for artistIndex in range(len(artists)):\n",
    "        if artistIndex%10000 == 0:\n",
    "            print \"Processed %d items\" %(artistIndex)\n",
    "        artistTerms = getArtistTerms(artists[artistIndex])\n",
    "        for artistTermIndex in range(len(artistTerms)):\n",
    "            if artistTerms[artistTermIndex][0] in termsDict.keys():\n",
    "    #             print termsDict[artistTerms[artistTermIndex][0]], artistTerms[artistTermIndex][0]\n",
    "                mat[artistIndex][(termsDict[artistTerms[artistTermIndex][0]])]=1.0\n",
    "    return mat"
   ]
  },
  {
   "cell_type": "code",
   "execution_count": 7,
   "metadata": {
    "collapsed": true
   },
   "outputs": [],
   "source": [
    "def createTable(filename, tablename):\n",
    "    createConn = sqlite3.connect(filename)\n",
    "    createTableQuery = \"\"\" CREATE TABLE IF NOT EXISTS %s (\n",
    "                                        target text,\n",
    "                                        similar text\n",
    "                                    ); \"\"\" %(tablename)\n",
    "\n",
    "    createConn.execute(createTableQuery)\n",
    "    return createConn"
   ]
  },
  {
   "cell_type": "code",
   "execution_count": 20,
   "metadata": {},
   "outputs": [],
   "source": [
    "def insertTable(createConn, tablename, indices, knn):\n",
    "    counter = 0\n",
    "    for currentIndex in indices:\n",
    "        counter = counter+1\n",
    "        if counter%10000 == 0:\n",
    "            print \"Inserted %d items\" %(counter)\n",
    "        for index in range(1, len(currentIndex)):\n",
    "            if index == knn:\n",
    "                break\n",
    "    #         print artists[currentIndex[0]][0], artists[currentIndex[index]][0]\n",
    "            insertQuery = \"\"\" INSERT INTO %s VALUES ('%s', '%s'); \"\"\" %(tablename, artists[currentIndex[0]][0], artists[currentIndex[index]][0])\n",
    "    #         print insertQuery\n",
    "            createConn.execute(insertQuery)\n",
    "            "
   ]
  },
  {
   "cell_type": "code",
   "execution_count": 21,
   "metadata": {
    "collapsed": true
   },
   "outputs": [],
   "source": [
    "def checkTable(createConn, tablename):\n",
    "    res =  createConn.execute(\"Select count(*) from %s;\" %(tablename))\n",
    "    print res.fetchall()\n",
    "\n",
    "def deleteTable(createConn):\n",
    "    createConn.execute(\"drop table %s;\" %(tablename))"
   ]
  },
  {
   "cell_type": "code",
   "execution_count": 10,
   "metadata": {},
   "outputs": [
    {
     "name": "stdout",
     "output_type": "stream",
     "text": [
      "Total:  44745\n",
      "Total:  353\n",
      "353\n",
      "(44745, 353)\n",
      "Processed 0 items\n",
      "Processed 10000 items\n",
      "Processed 20000 items\n",
      "Processed 30000 items\n",
      "Processed 40000 items\n"
     ]
    }
   ],
   "source": [
    "term, artists = readTags('data/artist_term.db', 'SELECT artist_id FROM artists;')\n",
    "term, terms = readTags('data/artist_term.db',\n",
    "                        'SELECT term FROM artist_term GROUP BY term HAVING count(*)>500;')\n",
    "termsDict = createTermsIndices(terms)\n",
    "mat = createMatrix(artists, terms)"
   ]
  },
  {
   "cell_type": "code",
   "execution_count": 12,
   "metadata": {},
   "outputs": [
    {
     "name": "stdout",
     "output_type": "stream",
     "text": [
      "[[    0 34301 19676 ..., 23140 29070 21312]\n",
      " [    1 11189   294 ..., 35093 10822  1673]\n",
      " [    2 32635  6864 ...,  3377  8689  9922]\n",
      " ..., \n",
      " [44742 34879 43158 ..., 12136 12319 10269]\n",
      " [10209 14681 13693 ..., 13696 13714 11131]\n",
      " [44744 36796 41754 ..., 10200   366 11607]]\n",
      "[[ 0.          3.87298335  3.87298335 ...,  4.58257569  4.58257569\n",
      "   4.69041576]\n",
      " [ 0.          2.          2.         ...,  2.64575131  2.64575131\n",
      "   2.64575131]\n",
      " [ 0.          5.          5.38516481 ...,  6.32455532  6.32455532\n",
      "   6.32455532]\n",
      " ..., \n",
      " [ 0.          2.82842712  2.82842712 ...,  3.46410162  3.46410162\n",
      "   3.46410162]\n",
      " [ 0.          0.          0.         ...,  0.          0.          0.        ]\n",
      " [ 0.          3.          3.         ...,  3.74165739  3.74165739\n",
      "   3.74165739]]\n",
      "0:20:20.114662\n"
     ]
    }
   ],
   "source": [
    "start = Timer()\n",
    "nbrs = NearestNeighbors(n_neighbors=200, algorithm='ball_tree').fit(mat)\n",
    "distances, indices = nbrs.kneighbors(mat)\n",
    "print indices\n",
    "print distances\n",
    "end = Timer()\n",
    "print end - start"
   ]
  },
  {
   "cell_type": "markdown",
   "metadata": {},
   "source": [
    "## Calculating Accuracy"
   ]
  },
  {
   "cell_type": "code",
   "execution_count": 82,
   "metadata": {},
   "outputs": [
    {
     "name": "stdout",
     "output_type": "stream",
     "text": [
      "[(0,)]\n",
      "Inserted 10000 items\n",
      "Inserted 20000 items\n",
      "Inserted 30000 items\n",
      "Inserted 40000 items\n",
      "[(2639955,)]\n",
      "0:00:51.022962\n"
     ]
    }
   ],
   "source": [
    "start = Timer()\n",
    "createConn = createTable('data/artist_similarity.db', 'balltree_tags_60')\n",
    "checkTable(createConn, 'balltree_tags_60')\n",
    "insertTable(createConn, 'balltree_tags_60', indices, 60)\n",
    "checkTable(createConn, 'balltree_tags_60')\n",
    "end = Timer()\n",
    "print end - start"
   ]
  },
  {
   "cell_type": "code",
   "execution_count": 83,
   "metadata": {},
   "outputs": [
    {
     "name": "stdout",
     "output_type": "stream",
     "text": [
      "0:00:00.705551\n",
      "0:00:01.442551\n",
      "0:00:02.159100\n",
      "0:00:02.847782\n",
      "0:00:03.507848\n",
      "0:00:04.173985\n",
      "0:00:04.845972\n",
      "0:00:05.519046\n",
      "0:00:06.313626\n",
      "0:00:06.981372\n",
      "0:00:07.662645\n",
      "0:00:08.352913\n",
      "0:00:09.033202\n",
      "0:00:09.740110\n",
      "0:00:10.430825\n",
      "0:00:11.105322\n",
      "0:00:11.777039\n",
      "0:00:12.506866\n",
      "0:00:13.228365\n",
      "0:00:13.886113\n"
     ]
    }
   ],
   "source": [
    "start = Timer()\n",
    "learning_factor=7.3\n",
    "total = 0.00\n",
    "for i in range(0,20):\n",
    "#     print artists[i][0]\n",
    "    res = createConn.execute(\"SELECT * FROM balltree_tags_60 as actual INNER JOIN similarity as predict ON actual.target = predict.target and actual.similar = predict.similar where actual.target='%s';\" %(artists[i][0]))\n",
    "    final = res.fetchall()\n",
    "#     print len(final)\n",
    "    total = total + len(final)\n",
    "    end = Timer()\n",
    "    print end - start"
   ]
  },
  {
   "cell_type": "code",
   "execution_count": 84,
   "metadata": {},
   "outputs": [
    {
     "name": "stdout",
     "output_type": "stream",
     "text": [
      "141.0\n"
     ]
    }
   ],
   "source": [
    "res = createConn.execute(\"SELECT count(*) FROM similarity GROUP BY target LIMIT 20;\")\n",
    "counts = res.fetchall()\n",
    "denominator=0.00\n",
    "for i in counts:\n",
    "    denominator = denominator + int(i[0]/learning_factor)\n",
    "print denominator"
   ]
  },
  {
   "cell_type": "code",
   "execution_count": 85,
   "metadata": {},
   "outputs": [
    {
     "name": "stdout",
     "output_type": "stream",
     "text": [
      "Accuracy Score for Ball-Tree for 60 Neighbours 0.673758865248\n"
     ]
    }
   ],
   "source": [
    "print \"Accuracy Score for Ball-Tree for 60 Neighbours\", total/denominator\n",
    "createConn.close()"
   ]
  },
  {
   "cell_type": "code",
   "execution_count": 76,
   "metadata": {},
   "outputs": [
    {
     "name": "stdout",
     "output_type": "stream",
     "text": [
      "[(0,)]\n",
      "Inserted 10000 items\n",
      "Inserted 20000 items\n",
      "Inserted 30000 items\n",
      "Inserted 40000 items\n",
      "[(1968780,)]\n",
      "0:00:42.602151\n"
     ]
    }
   ],
   "source": [
    "start = Timer()\n",
    "createConn = createTable('data/artist_similarity.db', 'balltree_tags_45')\n",
    "checkTable(createConn, 'balltree_tags_45')\n",
    "insertTable(createConn, 'balltree_tags_45', indices, 45)\n",
    "checkTable(createConn, 'balltree_tags_45')\n",
    "end = Timer()\n",
    "print end - start"
   ]
  },
  {
   "cell_type": "code",
   "execution_count": 77,
   "metadata": {},
   "outputs": [
    {
     "name": "stdout",
     "output_type": "stream",
     "text": [
      "0:00:00.558102\n",
      "0:00:01.128113\n",
      "0:00:01.651828\n",
      "0:00:02.175019\n",
      "0:00:02.674247\n",
      "0:00:03.286961\n",
      "0:00:03.903490\n",
      "0:00:04.494642\n",
      "0:00:05.029753\n",
      "0:00:05.593303\n",
      "0:00:06.244183\n",
      "0:00:06.785704\n",
      "0:00:07.304560\n",
      "0:00:07.810705\n",
      "0:00:08.326918\n",
      "0:00:08.845249\n",
      "0:00:09.410863\n",
      "0:00:09.933761\n",
      "0:00:10.466468\n",
      "0:00:10.975969\n"
     ]
    }
   ],
   "source": [
    "start = Timer()\n",
    "total = 0.00\n",
    "for i in range(0,20):\n",
    "#     print artists[i][0]\n",
    "    res = createConn.execute(\"SELECT * FROM balltree_tags_45 as actual INNER JOIN similarity as predict ON actual.target = predict.target and actual.similar = predict.similar where actual.target='%s';\" %(artists[i][0]))\n",
    "    final = res.fetchall()\n",
    "#     print len(final)\n",
    "    total = total + len(final)\n",
    "    end = Timer()\n",
    "    print end - start"
   ]
  },
  {
   "cell_type": "code",
   "execution_count": 79,
   "metadata": {},
   "outputs": [
    {
     "name": "stdout",
     "output_type": "stream",
     "text": [
      "Accuracy Score for Ball-Tree for 45 Neighbours 0.609929078014\n"
     ]
    }
   ],
   "source": [
    "print \"Accuracy Score for Ball-Tree for 45 Neighbours\", total/denominator #45 neighbours algorithm: Ball_tree\n",
    "createConn.close()"
   ]
  },
  {
   "cell_type": "code",
   "execution_count": 86,
   "metadata": {},
   "outputs": [
    {
     "name": "stdout",
     "output_type": "stream",
     "text": [
      "[(0,)]\n",
      "Inserted 10000 items\n",
      "Inserted 20000 items\n",
      "Inserted 30000 items\n",
      "Inserted 40000 items\n",
      "[(3982305,)]\n",
      "0:01:14.245004\n"
     ]
    }
   ],
   "source": [
    "start = Timer()\n",
    "createConn = createTable('data/artist_similarity.db', 'balltree_tags_90')\n",
    "checkTable(createConn, 'balltree_tags_90')\n",
    "insertTable(createConn, 'balltree_tags_90', indices, 90)\n",
    "checkTable(createConn, 'balltree_tags_90')\n",
    "end = Timer()\n",
    "print end - start"
   ]
  },
  {
   "cell_type": "code",
   "execution_count": 87,
   "metadata": {},
   "outputs": [
    {
     "name": "stdout",
     "output_type": "stream",
     "text": [
      "0:00:01.024675\n",
      "0:00:02.039585\n",
      "0:00:03.055631\n",
      "0:00:04.168233\n",
      "0:00:05.355255\n",
      "0:00:06.399954\n",
      "0:00:07.522884\n",
      "0:00:08.594564\n",
      "0:00:09.604729\n",
      "0:00:10.621946\n",
      "0:00:11.629012\n",
      "0:00:12.630779\n",
      "0:00:13.651726\n",
      "0:00:14.684730\n",
      "0:00:15.712343\n",
      "0:00:16.720478\n",
      "0:00:17.792074\n",
      "0:00:18.846301\n",
      "0:00:19.884201\n",
      "0:00:20.905561\n"
     ]
    }
   ],
   "source": [
    "start = Timer()\n",
    "total = 0.00\n",
    "learning_factor=5.2\n",
    "for i in range(0,20):\n",
    "#     print artists[i][0]\n",
    "    res = createConn.execute(\"SELECT * FROM balltree_tags_90 as actual INNER JOIN similarity as predict ON actual.target = predict.target and actual.similar = predict.similar where actual.target='%s';\" %(artists[i][0]))\n",
    "    final = res.fetchall()\n",
    "#     print len(final)\n",
    "    total = total + len(final)\n",
    "    end = Timer()\n",
    "    print end - start"
   ]
  },
  {
   "cell_type": "code",
   "execution_count": 88,
   "metadata": {},
   "outputs": [],
   "source": [
    "res = createConn.execute(\"SELECT count(*) FROM similarity GROUP BY target LIMIT 20;\")\n",
    "counts = res.fetchall()\n",
    "denominator=0.00\n",
    "for i in counts:\n",
    "    denominator = denominator + int(i[0]/learning_factor)\n",
    "# print denominator"
   ]
  },
  {
   "cell_type": "code",
   "execution_count": 89,
   "metadata": {},
   "outputs": [
    {
     "name": "stdout",
     "output_type": "stream",
     "text": [
      "Accuracy Score for Ball-Tree for 90 Neighbours 0.567164179104\n"
     ]
    }
   ],
   "source": [
    "print \"Accuracy Score for Ball-Tree for 90 Neighbours\", total/denominator #90 neighbours algorithm: Ball_tree\n",
    "createConn.close()"
   ]
  },
  {
   "cell_type": "code",
   "execution_count": null,
   "metadata": {
    "collapsed": true
   },
   "outputs": [],
   "source": []
  }
 ],
 "metadata": {
  "kernelspec": {
   "display_name": "Python 2",
   "language": "python",
   "name": "python2"
  },
  "language_info": {
   "codemirror_mode": {
    "name": "ipython",
    "version": 2
   },
   "file_extension": ".py",
   "mimetype": "text/x-python",
   "name": "python",
   "nbconvert_exporter": "python",
   "pygments_lexer": "ipython2",
   "version": "2.7.13"
  }
 },
 "nbformat": 4,
 "nbformat_minor": 2
}
