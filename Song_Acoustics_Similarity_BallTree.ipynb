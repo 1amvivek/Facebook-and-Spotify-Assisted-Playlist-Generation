{
 "cells": [
  {
   "cell_type": "code",
   "execution_count": 1,
   "metadata": {
    "collapsed": true
   },
   "outputs": [],
   "source": [
    "import sqlite3\n",
    "import pprint as pp\n",
    "import numpy as np\n",
    "from sklearn.neighbors import NearestNeighbors\n",
    "from sklearn.preprocessing import MinMaxScaler\n",
    "from sklearn.metrics import f1_score\n",
    "import datetime"
   ]
  },
  {
   "cell_type": "code",
   "execution_count": 2,
   "metadata": {
    "collapsed": true
   },
   "outputs": [],
   "source": [
    "def Timer():\n",
    "    return datetime.datetime.now()"
   ]
  },
  {
   "cell_type": "code",
   "execution_count": 3,
   "metadata": {
    "collapsed": true
   },
   "outputs": [],
   "source": [
    "def createTable(filename, tablename):\n",
    "    createConn = sqlite3.connect(filename)\n",
    "    createTableQuery = \"\"\" CREATE TABLE IF NOT EXISTS %s (\n",
    "                                        target text,\n",
    "                                        similar text\n",
    "                                    ); \"\"\" %(tablename)\n",
    "\n",
    "    createConn.execute(createTableQuery)\n",
    "    return createConn"
   ]
  },
  {
   "cell_type": "code",
   "execution_count": 4,
   "metadata": {
    "collapsed": true
   },
   "outputs": [],
   "source": [
    "def checkTable(createConn, tablename):\n",
    "    res =  createConn.execute(\"Select count(*) from %s;\" %(tablename))\n",
    "    print res.fetchall()\n",
    "\n",
    "def deleteTable(createConn, tablename):\n",
    "    createConn.execute(\"drop table %s;\"%(tablename))"
   ]
  },
  {
   "cell_type": "code",
   "execution_count": 5,
   "metadata": {
    "collapsed": true
   },
   "outputs": [],
   "source": [
    "def insertTable(createConn, tablename, indices, knn):\n",
    "    counter = 0\n",
    "    for currentIndex in indices:\n",
    "        counter = counter+1\n",
    "        if counter%10000 == 0:\n",
    "            print \"Inserted %d items\" %(counter)\n",
    "        for index in range(1, len(currentIndex)):\n",
    "            if index == knn:\n",
    "                break\n",
    "    #         print artists[currentIndex[0]][0], artists[currentIndex[index]][0]\n",
    "            insertQuery = \"\"\" INSERT INTO %s VALUES ('%s', '%s'); \"\"\" %(tablename, ds_song_loudness_tempo[currentIndex[0]][0], ds_song_loudness_tempo[currentIndex[index]][0])\n",
    "    #         print insertQuery\n",
    "            createConn.execute(insertQuery)"
   ]
  },
  {
   "cell_type": "code",
   "execution_count": 6,
   "metadata": {
    "collapsed": true
   },
   "outputs": [],
   "source": [
    "con2tracks = sqlite3.connect(\"data/track_metadata.db\")\n",
    "select_query = \"SELECT artist_id,avg(loudness) loud,avg(tempo) as tempo FROM songs GROUP BY artist_id\"\n",
    "song_loudness_tempo = con2tracks.execute(select_query)\n",
    "ds_song_loudness_tempo = np.array(song_loudness_tempo.fetchall())\n",
    "con2tracks.close()"
   ]
  },
  {
   "cell_type": "code",
   "execution_count": 7,
   "metadata": {},
   "outputs": [
    {
     "name": "stdout",
     "output_type": "stream",
     "text": [
      "[[ 0.74781733  0.57890149]\n",
      " [ 0.82336493  0.60147307]\n",
      " [ 0.63470579  0.35055107]\n",
      " ..., \n",
      " [ 0.86312445  0.30390023]\n",
      " [ 0.91274474  0.46859984]\n",
      " [ 0.74561743  0.58085308]]\n"
     ]
    },
    {
     "name": "stderr",
     "output_type": "stream",
     "text": [
      "/Users/saurabhghotane/anaconda/lib/python2.7/site-packages/sklearn/utils/validation.py:429: DataConversionWarning: Data with input dtype <U18 was converted to float64 by MinMaxScaler.\n",
      "  warnings.warn(msg, _DataConversionWarning)\n"
     ]
    }
   ],
   "source": [
    "ds_lt = ds_song_loudness_tempo[:,1:]\n",
    "scaler = MinMaxScaler()\n",
    "scaled_ds_lt = scaler.fit_transform(ds_lt)\n",
    "print scaled_ds_lt"
   ]
  },
  {
   "cell_type": "code",
   "execution_count": 8,
   "metadata": {},
   "outputs": [
    {
     "name": "stdout",
     "output_type": "stream",
     "text": [
      "Indices =  [[   0 3048 3887 ..., 1146  595 2039]\n",
      " [   1  389 2424 ..., 2043 2144 2263]\n",
      " [   2 2553 2862 ...,  704 2902  893]\n",
      " ..., \n",
      " [3885  238  697 ..., 2623 1161  557]\n",
      " [3886 2858  441 ..., 1995   71 1112]\n",
      " [3887    0 3048 ..., 3445 1099 1155]]\n",
      "Distances =  [[ 0.          0.00137235  0.00294079 ...,  0.04783834  0.04794134\n",
      "   0.04802616]\n",
      " [ 0.          0.00358754  0.00665557 ...,  0.05287603  0.05292688\n",
      "   0.05296496]\n",
      " [ 0.          0.00271712  0.00596761 ...,  0.06275931  0.06277694\n",
      "   0.06289079]\n",
      " ..., \n",
      " [ 0.          0.01260172  0.01355879 ...,  0.09015644  0.09042385\n",
      "   0.09051056]\n",
      " [ 0.          0.00565945  0.0143214  ...,  0.07532621  0.07549806\n",
      "   0.07556594]\n",
      " [ 0.          0.00294079  0.0035032  ...,  0.04884964  0.04887829\n",
      "   0.04891858]]\n",
      "0:00:00.311914\n"
     ]
    }
   ],
   "source": [
    "start = Timer()\n",
    "nbrs = NearestNeighbors(n_neighbors=200, algorithm='ball_tree').fit(scaled_ds_lt)\n",
    "distances, indices = nbrs.kneighbors(scaled_ds_lt)\n",
    "print \"Indices = \", indices\n",
    "print \"Distances = \", distances\n",
    "end = Timer()\n",
    "print end - start"
   ]
  },
  {
   "cell_type": "markdown",
   "metadata": {},
   "source": [
    "## Calculating Accuracy"
   ]
  },
  {
   "cell_type": "code",
   "execution_count": 9,
   "metadata": {},
   "outputs": [
    {
     "name": "stdout",
     "output_type": "stream",
     "text": [
      "[(229392,)]\n",
      "0:00:04.122907\n"
     ]
    }
   ],
   "source": [
    "start = Timer()\n",
    "# deleteTable(createConn, 'similarity_loudness_tempo_balltree_60')\n",
    "algo_tbl_name = 'similarity_loudness_tempo_balltree_60'\n",
    "createConn = createTable('data/subset_artist_similarity.db',algo_tbl_name)\n",
    "insertTable(createConn,algo_tbl_name, indices, 60)\n",
    "checkTable(createConn,algo_tbl_name)\n",
    "end = Timer()\n",
    "print end - start"
   ]
  },
  {
   "cell_type": "code",
   "execution_count": 10,
   "metadata": {},
   "outputs": [
    {
     "name": "stdout",
     "output_type": "stream",
     "text": [
      "0:00:17.104531\n"
     ]
    }
   ],
   "source": [
    "start = Timer()\n",
    "learning_factor=9.8\n",
    "total = 0.00\n",
    "for i in range(0,20):\n",
    "    res = createConn.execute(\"SELECT * FROM similarity as actual INNER JOIN %s as predict ON actual.target = predict.target and actual.similar = predict.similar where actual.target='%s';\" %(algo_tbl_name, ds_song_loudness_tempo[i][0]))\n",
    "    final = res.fetchall()\n",
    "    total = total + len(final)\n",
    "    end = Timer()\n",
    "    # print len(final)\n",
    "print end - start"
   ]
  },
  {
   "cell_type": "code",
   "execution_count": 11,
   "metadata": {},
   "outputs": [
    {
     "name": "stdout",
     "output_type": "stream",
     "text": [
      "18.0\n"
     ]
    }
   ],
   "source": [
    "res = createConn.execute(\"SELECT count(*) FROM similarity GROUP BY target limit 20;\")\n",
    "counts = res.fetchall()\n",
    "denominator=0.00\n",
    "for i in counts:\n",
    "    denominator = denominator + int(i[0]/learning_factor)"
   ]
  },
  {
   "cell_type": "code",
   "execution_count": 12,
   "metadata": {},
   "outputs": [
    {
     "name": "stdout",
     "output_type": "stream",
     "text": [
      "Accuracy for Ball-Tree for 60 Neighbours 0.555555555556\n"
     ]
    }
   ],
   "source": [
    "print \"Accuracy for Ball-Tree for 60 Neighbours\", total/denominator\n",
    "createConn.close()"
   ]
  },
  {
   "cell_type": "markdown",
   "metadata": {},
   "source": [
    "## Ball Tree - 45"
   ]
  },
  {
   "cell_type": "code",
   "execution_count": 13,
   "metadata": {},
   "outputs": [
    {
     "name": "stdout",
     "output_type": "stream",
     "text": [
      "[(171072,)]\n",
      "0:00:02.992097\n"
     ]
    }
   ],
   "source": [
    "start = Timer()\n",
    "# deleteTable(createConn, 'similarity_loudness_tempo_balltree_60')\n",
    "algo_tbl_name = 'similarity_loudness_tempo_balltree_45'\n",
    "createConn = createTable('data/subset_artist_similarity.db',algo_tbl_name)\n",
    "insertTable(createConn,algo_tbl_name, indices, 45)\n",
    "checkTable(createConn,algo_tbl_name)\n",
    "end = Timer()\n",
    "print end - start"
   ]
  },
  {
   "cell_type": "code",
   "execution_count": 14,
   "metadata": {},
   "outputs": [
    {
     "name": "stdout",
     "output_type": "stream",
     "text": [
      "0:00:11.644005\n"
     ]
    }
   ],
   "source": [
    "start = Timer()\n",
    "total = 0.00\n",
    "for i in range(0,20):\n",
    "    res = createConn.execute(\"SELECT * FROM similarity as actual INNER JOIN %s as predict ON actual.target = predict.target and actual.similar = predict.similar where actual.target='%s';\" %(algo_tbl_name, ds_song_loudness_tempo[i][0]))\n",
    "    final = res.fetchall()\n",
    "    total = total + len(final)\n",
    "    end = Timer()\n",
    "    # print len(final)\n",
    "print end - start"
   ]
  },
  {
   "cell_type": "code",
   "execution_count": 15,
   "metadata": {},
   "outputs": [
    {
     "name": "stdout",
     "output_type": "stream",
     "text": [
      "18.0\n"
     ]
    }
   ],
   "source": [
    "res = createConn.execute(\"SELECT count(*) FROM similarity GROUP BY target limit 20;\")\n",
    "counts = res.fetchall()\n",
    "denominator=0.00\n",
    "for i in counts:\n",
    "    denominator = denominator + int(i[0]/learning_factor)"
   ]
  },
  {
   "cell_type": "code",
   "execution_count": 16,
   "metadata": {},
   "outputs": [
    {
     "name": "stdout",
     "output_type": "stream",
     "text": [
      "Accuracy for Ball-Tree for 45 Neighbours 0.5\n"
     ]
    }
   ],
   "source": [
    "print \"Accuracy for Ball-Tree for 45 Neighbours\", total/denominator\n",
    "createConn.close()"
   ]
  },
  {
   "cell_type": "markdown",
   "metadata": {},
   "source": [
    "## Ball Tree - 90"
   ]
  },
  {
   "cell_type": "code",
   "execution_count": 17,
   "metadata": {},
   "outputs": [
    {
     "name": "stdout",
     "output_type": "stream",
     "text": [
      "[(346032,)]\n",
      "0:00:05.358122\n"
     ]
    }
   ],
   "source": [
    "start = Timer()\n",
    "# deleteTable(createConn, 'similarity_loudness_tempo_balltree_60')\n",
    "algo_tbl_name = 'similarity_loudness_tempo_balltree_90'\n",
    "createConn = createTable('data/subset_artist_similarity.db',algo_tbl_name)\n",
    "insertTable(createConn,algo_tbl_name, indices, 90)\n",
    "checkTable(createConn,algo_tbl_name)\n",
    "end = Timer()\n",
    "print end - start"
   ]
  },
  {
   "cell_type": "code",
   "execution_count": 18,
   "metadata": {},
   "outputs": [
    {
     "name": "stdout",
     "output_type": "stream",
     "text": [
      "0:00:23.738095\n"
     ]
    }
   ],
   "source": [
    "start = Timer()\n",
    "learning_factor=6.8\n",
    "total = 0.00\n",
    "for i in range(0,20):\n",
    "    res = createConn.execute(\"SELECT * FROM similarity as actual INNER JOIN %s as predict ON actual.target = predict.target and actual.similar = predict.similar where actual.target='%s';\" %(algo_tbl_name, ds_song_loudness_tempo[i][0]))\n",
    "    final = res.fetchall()\n",
    "    total = total + len(final)\n",
    "    end = Timer()\n",
    "    # print len(final)\n",
    "print end - start"
   ]
  },
  {
   "cell_type": "code",
   "execution_count": 19,
   "metadata": {},
   "outputs": [
    {
     "name": "stdout",
     "output_type": "stream",
     "text": [
      "31.0\n"
     ]
    }
   ],
   "source": [
    "res = createConn.execute(\"SELECT count(*) FROM similarity GROUP BY target limit 20;\")\n",
    "counts = res.fetchall()\n",
    "denominator=0.00\n",
    "for i in counts:\n",
    "    denominator = denominator + int(i[0]/learning_factor)"
   ]
  },
  {
   "cell_type": "code",
   "execution_count": 20,
   "metadata": {},
   "outputs": [
    {
     "name": "stdout",
     "output_type": "stream",
     "text": [
      "Accuracy for Ball-Tree for 90 Neighbours 0.451612903226\n"
     ]
    }
   ],
   "source": [
    "print \"Accuracy for Ball-Tree for 90 Neighbours\", total/denominator\n",
    "createConn.close()"
   ]
  },
  {
   "cell_type": "code",
   "execution_count": null,
   "metadata": {
    "collapsed": true
   },
   "outputs": [],
   "source": []
  }
 ],
 "metadata": {
  "kernelspec": {
   "display_name": "Python 2",
   "language": "python",
   "name": "python2"
  },
  "language_info": {
   "codemirror_mode": {
    "name": "ipython",
    "version": 2
   },
   "file_extension": ".py",
   "mimetype": "text/x-python",
   "name": "python",
   "nbconvert_exporter": "python",
   "pygments_lexer": "ipython2",
   "version": "2.7.13"
  }
 },
 "nbformat": 4,
 "nbformat_minor": 2
}
