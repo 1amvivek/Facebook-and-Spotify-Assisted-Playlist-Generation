{
 "cells": [
  {
   "cell_type": "code",
   "execution_count": 1,
   "metadata": {
    "collapsed": true
   },
   "outputs": [],
   "source": [
    "import sqlite3\n",
    "import pprint as pp\n",
    "import numpy as np\n",
    "from sklearn.neighbors import NearestNeighbors\n",
    "import datetime"
   ]
  },
  {
   "cell_type": "code",
   "execution_count": 2,
   "metadata": {
    "collapsed": true
   },
   "outputs": [],
   "source": [
    "def readTags(path, query):  \n",
    "    conn = sqlite3.connect(path)\n",
    "    res = conn.execute(query)\n",
    "    tags = res.fetchall()\n",
    "    # pp.pprint(data)\n",
    "    print \"Total: \", len(tags)\n",
    "    return conn, tags"
   ]
  },
  {
   "cell_type": "code",
   "execution_count": 3,
   "metadata": {
    "collapsed": true
   },
   "outputs": [],
   "source": [
    "def createTermsIndices(tags):\n",
    "    tagsDict = {}\n",
    "    for index in range(len(tags)):\n",
    "        tagsDict[tags[index][0]] = index\n",
    "    print len(tagsDict.values())\n",
    "    return tagsDict"
   ]
  },
  {
   "cell_type": "code",
   "execution_count": 4,
   "metadata": {
    "collapsed": true
   },
   "outputs": [],
   "source": [
    "def getArtistTerms(artist):\n",
    "    query=\"SELECT term FROM artist_term where artist_id='%s';\" %(artist)\n",
    "    res = term.execute(query)\n",
    "    artistTerms = res.fetchall()\n",
    "    return artistTerms"
   ]
  },
  {
   "cell_type": "code",
   "execution_count": 5,
   "metadata": {
    "collapsed": true
   },
   "outputs": [],
   "source": [
    "def Timer():\n",
    "    return datetime.datetime.now()"
   ]
  },
  {
   "cell_type": "code",
   "execution_count": 6,
   "metadata": {
    "collapsed": true
   },
   "outputs": [],
   "source": [
    "def createMatrix(artists, terms):\n",
    "    mat = np.zeros((len(artists),len(terms)))\n",
    "    print mat.shape\n",
    "\n",
    "    for artistIndex in range(len(artists)):\n",
    "        if artistIndex%10000 == 0:\n",
    "            print \"Processed %d items\" %(artistIndex)\n",
    "        artistTerms = getArtistTerms(artists[artistIndex])\n",
    "        for artistTermIndex in range(len(artistTerms)):\n",
    "            if artistTerms[artistTermIndex][0] in termsDict.keys():\n",
    "    #             print termsDict[artistTerms[artistTermIndex][0]], artistTerms[artistTermIndex][0]\n",
    "                mat[artistIndex][(termsDict[artistTerms[artistTermIndex][0]])]=1.0\n",
    "    return mat"
   ]
  },
  {
   "cell_type": "code",
   "execution_count": 7,
   "metadata": {
    "collapsed": true
   },
   "outputs": [],
   "source": [
    "def createTable(filename, tablename):\n",
    "    createConn = sqlite3.connect(filename)\n",
    "    createTableQuery = \"\"\" CREATE TABLE IF NOT EXISTS %s (\n",
    "                                        target text,\n",
    "                                        similar text\n",
    "                                    ); \"\"\" %(tablename)\n",
    "\n",
    "    createConn.execute(createTableQuery)\n",
    "    return createConn"
   ]
  },
  {
   "cell_type": "code",
   "execution_count": 8,
   "metadata": {
    "collapsed": true
   },
   "outputs": [],
   "source": [
    "def insertTable(createConn, tablename, indices, knn):\n",
    "    counter = 0\n",
    "    for currentIndex in indices:\n",
    "        counter = counter+1\n",
    "        if counter%10000 == 0:\n",
    "            print \"Inserted %d items\" %(counter)\n",
    "        for index in range(1, len(currentIndex)):\n",
    "            if index == knn:\n",
    "                break\n",
    "    #         print artists[currentIndex[0]][0], artists[currentIndex[index]][0]\n",
    "            insertQuery = \"\"\" INSERT INTO %s VALUES ('%s', '%s'); \"\"\" %(tablename, artists[currentIndex[0]][0], artists[currentIndex[index]][0])\n",
    "    #         print insertQuery\n",
    "            createConn.execute(insertQuery)\n",
    "            "
   ]
  },
  {
   "cell_type": "code",
   "execution_count": 9,
   "metadata": {
    "collapsed": true
   },
   "outputs": [],
   "source": [
    "def checkTable(createConn, tablename):\n",
    "    res =  createConn.execute(\"Select count(*) from %s;\" %(tablename))\n",
    "    print res.fetchall()\n",
    "\n",
    "def deleteTable(createConn):\n",
    "    createConn.execute(\"drop table %s;\" %(tablename))"
   ]
  },
  {
   "cell_type": "code",
   "execution_count": 10,
   "metadata": {},
   "outputs": [
    {
     "name": "stdout",
     "output_type": "stream",
     "text": [
      "Total:  44745\n",
      "Total:  353\n",
      "353\n",
      "(44745, 353)\n",
      "Processed 0 items\n",
      "Processed 10000 items\n",
      "Processed 20000 items\n",
      "Processed 30000 items\n",
      "Processed 40000 items\n"
     ]
    }
   ],
   "source": [
    "term, artists = readTags('data/artist_term.db', 'SELECT artist_id FROM artists;')\n",
    "term, terms = readTags('data/artist_term.db',\n",
    "                        'SELECT term FROM artist_term GROUP BY term HAVING count(*)>500;')\n",
    "termsDict = createTermsIndices(terms)\n",
    "mat = createMatrix(artists, terms)"
   ]
  },
  {
   "cell_type": "code",
   "execution_count": 11,
   "metadata": {},
   "outputs": [
    {
     "name": "stdout",
     "output_type": "stream",
     "text": [
      "2017-11-27 02:31:25.851203\n",
      "[[    0 34301 19676 ..., 16367 40825 24162]\n",
      " [    1   294 11189 ..., 22887  3949  1313]\n",
      " [    2 32635  6864 ..., 20764 24286 36992]\n",
      " ..., \n",
      " [44742 33447 25162 ..., 29041  1164 15548]\n",
      " [44060 42603 18464 ..., 34572 43902 41323]\n",
      " [44744 41754 36796 ..., 20473 23269 23238]]\n",
      "[[ 0.          3.87298335  3.87298335 ...,  4.58257569  4.58257569\n",
      "   4.69041576]\n",
      " [ 0.          2.          2.         ...,  2.64575131  2.64575131\n",
      "   2.64575131]\n",
      " [ 0.          5.          5.38516481 ...,  6.32455532  6.32455532\n",
      "   6.32455532]\n",
      " ..., \n",
      " [ 0.          2.82842712  2.82842712 ...,  3.46410162  3.46410162\n",
      "   3.46410162]\n",
      " [ 0.          0.          0.         ...,  0.          0.          0.        ]\n",
      " [ 0.          3.          3.         ...,  3.74165739  3.74165739\n",
      "   3.74165739]]\n",
      "0:42:19.182163\n"
     ]
    }
   ],
   "source": [
    "start = Timer()\n",
    "print start\n",
    "nbrs = NearestNeighbors(n_neighbors=200, algorithm='brute', metric='euclidean').fit(mat)\n",
    "distances, indices = nbrs.kneighbors(mat)\n",
    "print indices\n",
    "print distances\n",
    "end = Timer()\n",
    "print end - start"
   ]
  },
  {
   "cell_type": "markdown",
   "metadata": {},
   "source": [
    "## Calculating Accuracy"
   ]
  },
  {
   "cell_type": "code",
   "execution_count": 28,
   "metadata": {},
   "outputs": [
    {
     "name": "stdout",
     "output_type": "stream",
     "text": [
      "[(0,)]\n",
      "Inserted 10000 items\n",
      "Inserted 20000 items\n",
      "Inserted 30000 items\n",
      "Inserted 40000 items\n",
      "[(2639955,)]\n",
      "0:00:50.840673\n"
     ]
    }
   ],
   "source": [
    "start = Timer()\n",
    "createConn = createTable('data/artist_similarity.db', 'euclidean_tags_60')\n",
    "checkTable(createConn, 'euclidean_tags_60')\n",
    "insertTable(createConn, 'euclidean_tags_60', indices, 60)\n",
    "checkTable(createConn, 'euclidean_tags_60')\n",
    "end = Timer()\n",
    "print end - start"
   ]
  },
  {
   "cell_type": "code",
   "execution_count": 29,
   "metadata": {},
   "outputs": [
    {
     "name": "stdout",
     "output_type": "stream",
     "text": [
      "0:00:00.756400\n",
      "0:00:01.502975\n",
      "0:00:02.248185\n",
      "0:00:02.955314\n",
      "0:00:03.653072\n",
      "0:00:04.353280\n",
      "0:00:05.042911\n",
      "0:00:05.797383\n",
      "0:00:06.499465\n",
      "0:00:07.213265\n",
      "0:00:07.914568\n",
      "0:00:08.597734\n",
      "0:00:09.275567\n",
      "0:00:09.969112\n",
      "0:00:10.666219\n",
      "0:00:11.371575\n",
      "0:00:12.133531\n",
      "0:00:12.930057\n",
      "0:00:13.718540\n",
      "0:00:14.506827\n"
     ]
    }
   ],
   "source": [
    "start = Timer()\n",
    "learning_factor=7.3\n",
    "total = 0.00\n",
    "for i in range(0,20):\n",
    "#     print artists[i][0]\n",
    "    res = createConn.execute(\"SELECT * FROM euclidean_tags_60 as actual INNER JOIN similarity as predict ON actual.target = predict.target and actual.similar = predict.similar where actual.target='%s';\" %(artists[i][0]))\n",
    "    final = res.fetchall()\n",
    "#     print len(final)\n",
    "    total = total + len(final)\n",
    "    end = Timer()\n",
    "    print end - start"
   ]
  },
  {
   "cell_type": "code",
   "execution_count": 30,
   "metadata": {},
   "outputs": [
    {
     "name": "stdout",
     "output_type": "stream",
     "text": [
      "141.0\n"
     ]
    }
   ],
   "source": [
    "res = createConn.execute(\"SELECT count(*) FROM similarity GROUP BY target LIMIT 20;\")\n",
    "counts = res.fetchall()\n",
    "denominator=0.00\n",
    "for i in counts:\n",
    "    denominator = denominator + int(i[0]/learning_factor)\n",
    "print denominator"
   ]
  },
  {
   "cell_type": "code",
   "execution_count": 31,
   "metadata": {},
   "outputs": [
    {
     "name": "stdout",
     "output_type": "stream",
     "text": [
      "Accuracy Score for Euclidean for 60 Neighbours 0.687943262411\n"
     ]
    }
   ],
   "source": [
    "print \"Accuracy Score for Euclidean for 60 Neighbours\", total/denominator\n",
    "createConn.close()"
   ]
  },
  {
   "cell_type": "code",
   "execution_count": 32,
   "metadata": {},
   "outputs": [
    {
     "name": "stdout",
     "output_type": "stream",
     "text": [
      "[(0,)]\n",
      "Inserted 10000 items\n",
      "Inserted 20000 items\n",
      "Inserted 30000 items\n",
      "Inserted 40000 items\n",
      "[(1968780,)]\n",
      "0:00:39.381569\n"
     ]
    }
   ],
   "source": [
    "start = Timer()\n",
    "createConn = createTable('data/artist_similarity.db', 'euclidean_tags_45')\n",
    "checkTable(createConn, 'euclidean_tags_45')\n",
    "insertTable(createConn, 'euclidean_tags_45', indices, 45)\n",
    "checkTable(createConn, 'euclidean_tags_45')\n",
    "end = Timer()\n",
    "print end - start"
   ]
  },
  {
   "cell_type": "code",
   "execution_count": 33,
   "metadata": {},
   "outputs": [
    {
     "name": "stdout",
     "output_type": "stream",
     "text": [
      "0:00:00.516283\n",
      "0:00:01.034116\n",
      "0:00:01.541837\n",
      "0:00:02.041626\n",
      "0:00:02.548986\n",
      "0:00:03.065743\n",
      "0:00:03.686193\n",
      "0:00:04.199576\n",
      "0:00:04.721202\n",
      "0:00:05.247028\n",
      "0:00:05.738452\n",
      "0:00:06.244737\n",
      "0:00:06.740321\n",
      "0:00:07.252481\n",
      "0:00:07.790338\n",
      "0:00:08.425530\n",
      "0:00:09.009104\n",
      "0:00:09.572472\n",
      "0:00:10.119183\n",
      "0:00:10.637623\n"
     ]
    }
   ],
   "source": [
    "start = Timer()\n",
    "total = 0.00\n",
    "for i in range(0,20):\n",
    "#     print artists[i][0]\n",
    "    res = createConn.execute(\"SELECT * FROM euclidean_tags_45 as actual INNER JOIN similarity as predict ON actual.target = predict.target and actual.similar = predict.similar where actual.target='%s';\" %(artists[i][0]))\n",
    "    final = res.fetchall()\n",
    "#     print len(final)\n",
    "    total = total + len(final)\n",
    "    end = Timer()\n",
    "    print end - start"
   ]
  },
  {
   "cell_type": "code",
   "execution_count": 34,
   "metadata": {},
   "outputs": [
    {
     "name": "stdout",
     "output_type": "stream",
     "text": [
      "Accuracy Score for Euclidean for 45 Neighbours 0.58865248227\n"
     ]
    }
   ],
   "source": [
    "print \"Accuracy Score for Euclidean for 45 Neighbours\", total/denominator #45 neighbours algorithm: Ball_tree\n",
    "createConn.close()"
   ]
  },
  {
   "cell_type": "code",
   "execution_count": 35,
   "metadata": {},
   "outputs": [
    {
     "name": "stdout",
     "output_type": "stream",
     "text": [
      "[(0,)]\n",
      "Inserted 10000 items\n",
      "Inserted 20000 items\n",
      "Inserted 30000 items\n",
      "Inserted 40000 items\n",
      "[(3982305,)]\n",
      "0:01:13.891296\n"
     ]
    }
   ],
   "source": [
    "start = Timer()\n",
    "createConn = createTable('data/artist_similarity.db', 'euclidean_tags_90')\n",
    "checkTable(createConn, 'euclidean_tags_90')\n",
    "insertTable(createConn, 'euclidean_tags_90', indices, 90)\n",
    "checkTable(createConn, 'euclidean_tags_90')\n",
    "end = Timer()\n",
    "print end - start"
   ]
  },
  {
   "cell_type": "code",
   "execution_count": 36,
   "metadata": {},
   "outputs": [
    {
     "name": "stdout",
     "output_type": "stream",
     "text": [
      "0:00:01.055694\n",
      "0:00:02.151588\n",
      "0:00:03.226044\n",
      "0:00:04.262756\n",
      "0:00:05.278198\n",
      "0:00:06.314237\n",
      "0:00:07.354676\n",
      "0:00:08.373546\n",
      "0:00:09.394024\n",
      "0:00:10.401689\n",
      "0:00:11.414701\n",
      "0:00:12.434797\n",
      "0:00:13.466739\n",
      "0:00:14.477437\n",
      "0:00:15.540047\n",
      "0:00:16.589631\n",
      "0:00:17.582066\n",
      "0:00:18.593540\n",
      "0:00:19.615412\n",
      "0:00:20.632295\n"
     ]
    }
   ],
   "source": [
    "start = Timer()\n",
    "total = 0.00\n",
    "learning_factor=5.2\n",
    "for i in range(0,20):\n",
    "#     print artists[i][0]\n",
    "    res = createConn.execute(\"SELECT * FROM euclidean_tags_90 as actual INNER JOIN similarity as predict ON actual.target = predict.target and actual.similar = predict.similar where actual.target='%s';\" %(artists[i][0]))\n",
    "    final = res.fetchall()\n",
    "#     print len(final)\n",
    "    total = total + len(final)\n",
    "    end = Timer()\n",
    "    print end - start"
   ]
  },
  {
   "cell_type": "code",
   "execution_count": 37,
   "metadata": {
    "collapsed": true
   },
   "outputs": [],
   "source": [
    "res = createConn.execute(\"SELECT count(*) FROM similarity GROUP BY target LIMIT 20;\")\n",
    "counts = res.fetchall()\n",
    "denominator=0.00\n",
    "for i in counts:\n",
    "    denominator = denominator + int(i[0]/learning_factor)\n",
    "# print denominator"
   ]
  },
  {
   "cell_type": "code",
   "execution_count": 38,
   "metadata": {},
   "outputs": [
    {
     "name": "stdout",
     "output_type": "stream",
     "text": [
      "Accuracy Score for Euclidean for 90 Neighbours 0.597014925373\n"
     ]
    }
   ],
   "source": [
    "print \"Accuracy Score for Euclidean for 90 Neighbours\", total/denominator #90 neighbours algorithm: Ball_tree\n",
    "createConn.close()"
   ]
  },
  {
   "cell_type": "code",
   "execution_count": null,
   "metadata": {
    "collapsed": true
   },
   "outputs": [],
   "source": []
  },
  {
   "cell_type": "code",
   "execution_count": null,
   "metadata": {
    "collapsed": true
   },
   "outputs": [],
   "source": []
  }
 ],
 "metadata": {
  "kernelspec": {
   "display_name": "Python 2",
   "language": "python",
   "name": "python2"
  },
  "language_info": {
   "codemirror_mode": {
    "name": "ipython",
    "version": 2
   },
   "file_extension": ".py",
   "mimetype": "text/x-python",
   "name": "python",
   "nbconvert_exporter": "python",
   "pygments_lexer": "ipython2",
   "version": "2.7.13"
  }
 },
 "nbformat": 4,
 "nbformat_minor": 2
}
